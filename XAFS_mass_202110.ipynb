{
 "cells": [
  {
   "cell_type": "code",
   "execution_count": 2,
   "id": "a253957c",
   "metadata": {},
   "outputs": [],
   "source": [
    "import sys\n",
    "from IPython.display import display\n",
    "sys.path.append(\"D:/Software/XAFS_mass_bulk/\")\n",
    "from xafs_mass_bulk import powder\n",
    "# powder(samples, mud=1.5, die_diam=13, exclude_elements=None, edge_to_find=None)\n",
    "# samples = list of samples with there chemical formulas\n",
    "# mud = absorption length\n",
    "# die_diam = diameter of pellet die 13 mm\n",
    "# exclude_elments = List of elements to be excluded from the final table. Elements up to \"Ca\" already excluded\n",
    "# edge_to_find = Give which edge is used for the calculation e.g \"K\", \"L3\" or leave None for default"
   ]
  },
  {
   "cell_type": "code",
   "execution_count": 1,
   "id": "03fb4f1e",
   "metadata": {},
   "outputs": [],
   "source": [
    "samples = ['CuSO9H10'] # E.g ['CuO', Cu%5SiO2]"
   ]
  },
  {
   "cell_type": "code",
   "execution_count": 5,
   "id": "3dd62584",
   "metadata": {},
   "outputs": [
    {
     "data": {
      "text/html": [
       "<style  type=\"text/css\" >\n",
       "</style><table id=\"T_8923d_\" ><thead>    <tr>        <th class=\"col_heading level0 col0\" >Sample</th>        <th class=\"col_heading level0 col1\" >Edge[eV]</th>        <th class=\"col_heading level0 col2\" >E+50[eV]</th>        <th class=\"col_heading level0 col3\" >µd</th>        <th class=\"col_heading level0 col4\" >pellet_dia[mm]</th>        <th class=\"col_heading level0 col5\" >nu[mmol]</th>        <th class=\"col_heading level0 col6\" >mass[mg]</th>        <th class=\"col_heading level0 col7\" >thickness[µm]</th>        <th class=\"col_heading level0 col8\" >jump</th>        <th class=\"col_heading level0 col9\" >Cellulose[mg]</th>        <th class=\"col_heading level0 col10\" >BN[mg]</th>    </tr></thead><tbody>\n",
       "                <tr>\n",
       "                                <td id=\"T_8923d_row0_col0\" class=\"data row0 col0\" >Cu1S1O9H10</td>\n",
       "                        <td id=\"T_8923d_row0_col1\" class=\"data row0 col1\" >8979</td>\n",
       "                        <td id=\"T_8923d_row0_col2\" class=\"data row0 col2\" >9029</td>\n",
       "                        <td id=\"T_8923d_row0_col3\" class=\"data row0 col3\" >1.500000</td>\n",
       "                        <td id=\"T_8923d_row0_col4\" class=\"data row0 col4\" >13</td>\n",
       "                        <td id=\"T_8923d_row0_col5\" class=\"data row0 col5\" >0.094200</td>\n",
       "                        <td id=\"T_8923d_row0_col6\" class=\"data row0 col6\" >23.500000</td>\n",
       "                        <td id=\"T_8923d_row0_col7\" class=\"data row0 col7\" >84.400000</td>\n",
       "                        <td id=\"T_8923d_row0_col8\" class=\"data row0 col8\" >1.120000</td>\n",
       "                        <td id=\"T_8923d_row0_col9\" class=\"data row0 col9\" >199.000000</td>\n",
       "                        <td id=\"T_8923d_row0_col10\" class=\"data row0 col10\" >279.000000</td>\n",
       "            </tr>\n",
       "    </tbody></table>"
      ],
      "text/plain": [
       "<pandas.io.formats.style.Styler at 0x1bbe0a156d0>"
      ]
     },
     "metadata": {},
     "output_type": "display_data"
    }
   ],
   "source": [
    "display(powder(samples, mud=1.5, die_diam=13, exclude_elements = None, edge_to_find = None).style.hide_index()) \n",
    "# E.g. exclude_elements = ['Cu', 'Ni'] , edge_to_find = 'K' or 'L3' or leave None for default"
   ]
  },
  {
   "cell_type": "code",
   "execution_count": null,
   "id": "dc40db55",
   "metadata": {},
   "outputs": [],
   "source": []
  }
 ],
 "metadata": {
  "kernelspec": {
   "display_name": "Python 3",
   "language": "python",
   "name": "python3"
  },
  "language_info": {
   "codemirror_mode": {
    "name": "ipython",
    "version": 3
   },
   "file_extension": ".py",
   "mimetype": "text/x-python",
   "name": "python",
   "nbconvert_exporter": "python",
   "pygments_lexer": "ipython3",
   "version": "3.8.8"
  }
 },
 "nbformat": 4,
 "nbformat_minor": 5
}
